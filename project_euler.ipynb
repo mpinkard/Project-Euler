{
 "metadata": {
  "language_info": {
   "codemirror_mode": {
    "name": "ipython",
    "version": 3
   },
   "file_extension": ".py",
   "mimetype": "text/x-python",
   "name": "python",
   "nbconvert_exporter": "python",
   "pygments_lexer": "ipython3",
   "version": "3.9.4"
  },
  "orig_nbformat": 4,
  "kernelspec": {
   "name": "python3",
   "display_name": "Python 3.9.4 64-bit ('python@3.9')"
  },
  "interpreter": {
   "hash": "50292dbb1f747f7151d445135d392af3138fb3c65386d17d9510cb605222b10b"
  }
 },
 "nbformat": 4,
 "nbformat_minor": 2,
 "cells": [
  {
   "cell_type": "code",
   "execution_count": 18,
   "metadata": {},
   "outputs": [],
   "source": [
    "# Unfortunate side effect of modifying an argument from elsewhere\n",
    "# Should probably copy the list each time it is \n",
    "def recursive_summing(numbers, difference):\n",
    "    # Base case\n",
    "    if len(numbers) <= 1:\n",
    "        return difference\n",
    "    # Recursive case\n",
    "    next_number = numbers.pop()\n",
    "    number_sums = [next_number * i for i in numbers]\n",
    "    new_difference = difference + (2 * sum(number_sums))\n",
    "    return recursive_summing(numbers, new_difference)\n",
    "\n",
    "def sum_square_difference(n):\n",
    "    numbers = [n-i for i in range(n)]\n",
    "    return recursive_summing(numbers, 0)\n",
    "    \n",
    "\n"
   ]
  },
  {
   "cell_type": "code",
   "execution_count": 21,
   "metadata": {},
   "outputs": [
    {
     "output_type": "stream",
     "name": "stdout",
     "text": [
      "True\n"
     ]
    },
    {
     "output_type": "execute_result",
     "data": {
      "text/plain": [
       "25164150"
      ]
     },
     "metadata": {},
     "execution_count": 21
    }
   ],
   "source": [
    "print(2640 == sum_square_difference(10))\n",
    "sum_square_difference(100)"
   ]
  },
  {
   "cell_type": "code",
   "execution_count": 46,
   "metadata": {},
   "outputs": [],
   "source": [
    "from operator import mul\n",
    "from functools import reduce \n",
    "\n",
    "def check_prime(primes, x):\n",
    "    if x < 2:\n",
    "        return False\n",
    "    if x == 2:\n",
    "        return False\n",
    "    if x % 2 == 0:\n",
    "        return False\n",
    "    for y in primes:\n",
    "        if x % y == 0:\n",
    "            return False\n",
    "    return True\n",
    "\n",
    "def generate_primes_below(n):\n",
    "    if n < 2:\n",
    "        return []\n",
    "    primes = [2]\n",
    "    for x in range(2, n+1):\n",
    "        if check_prime(primes, x):\n",
    "            primes.append(x)\n",
    "    return primes\n",
    "\n",
    "\n",
    "def evenly_divisible(n):\n",
    "    primes = generate_primes_below(n)\n",
    "    print(primes)\n",
    "    product = reduce(mul, primes)\n",
    "    print(product)\n",
    "    return product\n",
    "\n",
    "def largest_prime_factor(x):"
   ]
  },
  {
   "cell_type": "code",
   "execution_count": 47,
   "metadata": {},
   "outputs": [
    {
     "output_type": "stream",
     "name": "stdout",
     "text": [
      "[2, 3, 5, 7]\n210\n"
     ]
    },
    {
     "output_type": "error",
     "ename": "AssertionError",
     "evalue": "",
     "traceback": [
      "\u001b[0;31m---------------------------------------------------------------------------\u001b[0m",
      "\u001b[0;31mAssertionError\u001b[0m                            Traceback (most recent call last)",
      "\u001b[0;32m/var/folders/nm/bgmsg3v973dd7tx59nxzdsx40000gn/T/ipykernel_36126/2593906588.py\u001b[0m in \u001b[0;36m<module>\u001b[0;34m\u001b[0m\n\u001b[1;32m      1\u001b[0m \u001b[0;32massert\u001b[0m \u001b[0mgenerate_primes_below\u001b[0m\u001b[0;34m(\u001b[0m\u001b[0;36m2\u001b[0m\u001b[0;34m)\u001b[0m \u001b[0;34m==\u001b[0m \u001b[0;34m[\u001b[0m\u001b[0;36m2\u001b[0m\u001b[0;34m]\u001b[0m\u001b[0;34m\u001b[0m\u001b[0;34m\u001b[0m\u001b[0m\n\u001b[1;32m      2\u001b[0m \u001b[0;32massert\u001b[0m \u001b[0mgenerate_primes_below\u001b[0m\u001b[0;34m(\u001b[0m\u001b[0;36m5\u001b[0m\u001b[0;34m)\u001b[0m \u001b[0;34m==\u001b[0m \u001b[0;34m[\u001b[0m\u001b[0;36m2\u001b[0m\u001b[0;34m,\u001b[0m \u001b[0;36m3\u001b[0m\u001b[0;34m,\u001b[0m \u001b[0;36m5\u001b[0m\u001b[0;34m]\u001b[0m\u001b[0;34m\u001b[0m\u001b[0;34m\u001b[0m\u001b[0m\n\u001b[0;32m----> 3\u001b[0;31m \u001b[0;32massert\u001b[0m \u001b[0mevenly_divisible\u001b[0m\u001b[0;34m(\u001b[0m\u001b[0;36m10\u001b[0m\u001b[0;34m)\u001b[0m \u001b[0;34m==\u001b[0m \u001b[0;36m2520\u001b[0m\u001b[0;34m\u001b[0m\u001b[0;34m\u001b[0m\u001b[0m\n\u001b[0m\u001b[1;32m      4\u001b[0m \u001b[0mevenly_divisible\u001b[0m\u001b[0;34m(\u001b[0m\u001b[0;36m20\u001b[0m\u001b[0;34m)\u001b[0m\u001b[0;34m\u001b[0m\u001b[0;34m\u001b[0m\u001b[0m\n",
      "\u001b[0;31mAssertionError\u001b[0m: "
     ]
    }
   ],
   "source": [
    "assert generate_primes_below(2) == [2]\n",
    "assert generate_primes_below(5) == [2, 3, 5]\n",
    "assert evenly_divisible(10) == 2520\n",
    "evenly_divisible(20)"
   ]
  },
  {
   "cell_type": "code",
   "execution_count": null,
   "metadata": {},
   "outputs": [],
   "source": []
  }
 ]
}